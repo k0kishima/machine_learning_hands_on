{
 "cells": [
  {
   "cell_type": "markdown",
   "id": "e6688061-145b-4923-8ebd-4c07090f4e41",
   "metadata": {},
   "source": [
    "# ロジスティクス回帰をラフに試す\n",
    "\n",
    "## DataFrameの作成\n",
    "\n",
    "作り方は scripts/netkeiba/create_race_result_data_frame.py 参照"
   ]
  },
  {
   "cell_type": "code",
   "execution_count": null,
   "id": "cbe2a6c2-2454-428c-87f0-461a8f016f44",
   "metadata": {},
   "outputs": [],
   "source": [
    "import pandas as pd\n",
    "from pathlib import Path\n",
    "from keiba_machine_learning.netkeiba.constants import RACE_DATA_DIR\n",
    "\n",
    "pd.set_option('display.max_columns', 100)\n",
    "\n",
    "# Data Frame の作成\n",
    "df = pd.read_pickle(Path(RACE_DATA_DIR) / 'race_results_data_frame.pickle').copy()\n",
    "\n",
    "#display(df)"
   ]
  },
  {
   "cell_type": "markdown",
   "id": "fdd1d6fb-55df-4f1a-9df2-997ba8c35a34",
   "metadata": {},
   "source": [
    "## 着順データの整理\n",
    "\n",
    "馬券に絡むか絡まないかだと4着以下は4着でも18着でも同じようなものなのでまとめてしまう"
   ]
  },
  {
   "cell_type": "code",
   "execution_count": null,
   "id": "3159e1d5-07d6-4239-bd09-e01e299ad0c8",
   "metadata": {},
   "outputs": [],
   "source": [
    "df['order_of_placing'] = df['order_of_placing'].map(lambda n: n if n <= 3 else 4)\n",
    "#df['order_of_placing'].value_counts()"
   ]
  },
  {
   "cell_type": "markdown",
   "id": "d717ec82-08ea-4f20-a7c9-a08330caceb1",
   "metadata": {},
   "source": [
    "## ダミー変数化"
   ]
  },
  {
   "cell_type": "code",
   "execution_count": null,
   "id": "dc0ea6e2-75a4-427c-b111-0576f4ce101a",
   "metadata": {},
   "outputs": [],
   "source": [
    "# 使わない項目を削除\n",
    "# 例えば hourse_id や horuse_name などはユニークな値 10,000 件以上あるのでこう言うのは今回は（素振り段階では）ダミー変数にしない\n",
    "df.drop(['race_time', 'race_id', 'horse_id', 'horse_name', 'jockey_name', 'race_number', 'starts_at'], axis=1, inplace=True)\n",
    "\n",
    "# ダミー変数化するものだけ引数で指定\n",
    "dummy_df = pd.get_dummies(df, columns=['race_track', 'track_kind', 'track_direction', 'race_distance_by_meter', 'track_surface', 'weather', 'bracket_number', 'horse_number', 'horse_age', 'horse_gender', 'impost', 'jockey_id', 'win_betting_ratio', 'favorite_order', 'horse_weight', 'weight_change'])\n",
    "#display(dummy_df)"
   ]
  },
  {
   "cell_type": "markdown",
   "id": "e9cb91cd-9055-4566-8e74-4c9ba47fd462",
   "metadata": {},
   "source": [
    "## 訓練データとテストデータに分ける"
   ]
  },
  {
   "cell_type": "code",
   "execution_count": null,
   "id": "a0e83971-3b51-430b-b29a-93d1bc69e3b9",
   "metadata": {},
   "outputs": [],
   "source": [
    "from sklearn.model_selection import train_test_split\n",
    "\n",
    "x = dummy_df.drop(['order_of_placing'], axis=1)\n",
    "y = dummy_df['order_of_placing'].astype(int)\n",
    "\n",
    "x_train, x_test, y_train, y_test = train_test_split(x, y, stratify=y, test_size=0.3, random_state=0)"
   ]
  },
  {
   "cell_type": "markdown",
   "id": "c44d001b-b136-4ba3-8942-60d3b1fed8ba",
   "metadata": {},
   "source": [
    "## アンダーサンプリング\n",
    "\n",
    "着順の整理で4位の割合が大幅に増えてしまったので、標本を調整しないと4位予想に偏ってしまう"
   ]
  },
  {
   "cell_type": "code",
   "execution_count": null,
   "id": "390d2739-989c-4863-9cc1-60f98627d16a",
   "metadata": {},
   "outputs": [],
   "source": [
    "from imblearn.under_sampling import RandomUnderSampler\n",
    "\n",
    "rank_1 = y_train.value_counts()[1]\n",
    "rank_2 = y_train.value_counts()[2]\n",
    "rank_3 = y_train.value_counts()[3]\n",
    "#変更点\n",
    "rus = RandomUnderSampler(\n",
    "    sampling_strategy={1: rank_1, 2: rank_2, 3: rank_3, 4: rank_1}, random_state=71\n",
    ")\n",
    "x_train_rus, y_train_rus = rus.fit_resample(x_train.values, y_train.values)"
   ]
  },
  {
   "cell_type": "markdown",
   "id": "523eb0f3-2256-4ec2-95d0-15a47545c6a3",
   "metadata": {},
   "source": [
    "## 訓練"
   ]
  },
  {
   "cell_type": "code",
   "execution_count": null,
   "id": "bf795429",
   "metadata": {},
   "outputs": [],
   "source": [
    "from sklearn.linear_model import LogisticRegression\n",
    "\n",
    "model = LogisticRegression()\n",
    "model.fit(x_train_rus, y_train_rus)"
   ]
  },
  {
   "cell_type": "markdown",
   "id": "54e9230b-5d8c-4325-8622-17220fabcc14",
   "metadata": {},
   "source": [
    "## 制度の確認\n",
    "\n",
    "素振りなので低精度でも気にしない"
   ]
  },
  {
   "cell_type": "code",
   "execution_count": null,
   "id": "c826c7b2-47a2-403c-be3e-8e9ec523622b",
   "metadata": {},
   "outputs": [],
   "source": [
    "print(model.score(x_train, y_train), model.score(x_test, y_test))"
   ]
  },
  {
   "cell_type": "markdown",
   "id": "73134b56-26eb-4ab5-a891-082b912db1bb",
   "metadata": {},
   "source": [
    "## 予測"
   ]
  },
  {
   "cell_type": "code",
   "execution_count": null,
   "id": "e7c39aa6",
   "metadata": {},
   "outputs": [],
   "source": [
    "y_pred = model.predict(x_test)\n",
    "#print(y_pred)"
   ]
  },
  {
   "cell_type": "markdown",
   "id": "dd6c3756-be46-4e84-8175-a4f5cf3a83d3",
   "metadata": {},
   "source": [
    "## 予測結果確認"
   ]
  },
  {
   "cell_type": "code",
   "execution_count": null,
   "id": "52479b05-211c-4673-8f4d-046ca05388c5",
   "metadata": {},
   "outputs": [],
   "source": [
    "pred_df = pd.DataFrame({\"pred\": y_pred, \"actual\": y_test})\n",
    "display(pred_df)  # 予想と実際の着順の対応表\n",
    "pred_df[pred_df[\"pred\"] == 1][\"actual\"].value_counts()  # 1着と予想した際に実際にどの着順だったか"
   ]
  },
  {
   "cell_type": "markdown",
   "id": "8162abc8-e6de-4748-b346-4da240e2c52b",
   "metadata": {},
   "source": [
    "## 回帰係数の確認"
   ]
  },
  {
   "cell_type": "code",
   "execution_count": null,
   "id": "d9b950f0-72f4-431e-afd6-d1ad9acb1df4",
   "metadata": {},
   "outputs": [],
   "source": [
    "coefs = pd.Series(model.coef_[0], index=x.columns).sort_values()\n",
    "display(coefs)"
   ]
  }
 ],
 "metadata": {
  "kernelspec": {
   "display_name": "Python 3",
   "language": "python",
   "name": "python3"
  },
  "language_info": {
   "codemirror_mode": {
    "name": "ipython",
    "version": 3
   },
   "file_extension": ".py",
   "mimetype": "text/x-python",
   "name": "python",
   "nbconvert_exporter": "python",
   "pygments_lexer": "ipython3",
   "version": "3.8.2"
  }
 },
 "nbformat": 4,
 "nbformat_minor": 5
}
